{
 "cells": [
  {
   "cell_type": "code",
   "execution_count": 2,
   "id": "039b136f-18c1-48fa-b8b4-29eef2905bbc",
   "metadata": {},
   "outputs": [
    {
     "name": "stdin",
     "output_type": "stream",
     "text": [
      "enter number 5445.5645\n"
     ]
    },
    {
     "name": "stdout",
     "output_type": "stream",
     "text": [
      "5445.56\n"
     ]
    }
   ],
   "source": [
    "#1\n",
    "a=float(input(\"enter number\"))\n",
    "x=round(a,2)\n",
    "print(x)"
   ]
  },
  {
   "cell_type": "code",
   "execution_count": 7,
   "id": "ee465b24-a82d-4789-b9df-cecad3073855",
   "metadata": {},
   "outputs": [
    {
     "name": "stdin",
     "output_type": "stream",
     "text": [
      "enter the string eggs\n",
      "enter the string to be searched g\n"
     ]
    },
    {
     "name": "stdout",
     "output_type": "stream",
     "text": [
      "2\n"
     ]
    }
   ],
   "source": [
    "#2\n",
    "str=(input(\"enter the string\"))\n",
    "search=input(\"enter the string to be searched\")\n",
    "x=str.count(search)\n",
    "print(x)"
   ]
  },
  {
   "cell_type": "code",
   "execution_count": 11,
   "id": "713b3296-ef5d-4410-b2ca-c101cee00ba3",
   "metadata": {},
   "outputs": [
    {
     "name": "stdin",
     "output_type": "stream",
     "text": [
      "enter the string '   Geeks for Geeks   '\n",
      "enter set fo character to be removed '   Geeks'\n"
     ]
    },
    {
     "name": "stdout",
     "output_type": "stream",
     "text": [
      "for\n"
     ]
    }
   ],
   "source": [
    "str=(input(\"enter the string\"))\n",
    "x=input(\"enter set fo character to be removed\")\n",
    "x=str.strip(x)\n",
    "print(x)\n"
   ]
  },
  {
   "cell_type": "code",
   "execution_count": 14,
   "id": "f20ee969-8c51-4099-bde2-85b3df013a80",
   "metadata": {},
   "outputs": [
    {
     "name": "stdout",
     "output_type": "stream",
     "text": [
      "adek\n"
     ]
    }
   ],
   "source": [
    "def convert(lst):\n",
    "    str=\"\"\n",
    "    return(str.join(lst))\n",
    "lst=[\"a\",\"b\",\"e\",\"f\"]\n",
    "print(convert(lst))\n"
   ]
  },
  {
   "cell_type": "code",
   "execution_count": 21,
   "id": "6cafb5cc-fe28-417a-b27e-748eb30092a2",
   "metadata": {},
   "outputs": [
    {
     "name": "stdout",
     "output_type": "stream",
     "text": [
      "556575"
     ]
    }
   ],
   "source": [
    "\n",
    "lst = [55, 65, 75]\n",
    "for i in lst:\n",
    "\tprint(i, end=\"\")\n"
   ]
  },
  {
   "cell_type": "code",
   "execution_count": 1,
   "id": "8ed06ee5-09cc-4ff4-bcb7-1437975e9502",
   "metadata": {},
   "outputs": [
    {
     "name": "stdout",
     "output_type": "stream",
     "text": [
      "The given list :  ['Mon', 'Tue', 'Wed']\n",
      "All elements are unique.\n"
     ]
    }
   ],
   "source": [
    "\n",
    "Alist = ['Mon','Tue','Wed']\n",
    "print(\"The given list : \",Alist)\n",
    "if(len(set(Alist)) == len(Alist)):\n",
    "\n",
    "   print(\"All elements are unique.\")\n",
    "else:\n",
    "   print(\"All elements are not unique.\")"
   ]
  },
  {
   "cell_type": "code",
   "execution_count": null,
   "id": "d87aef8c-1bd8-4a95-8429-ca3d0b12648f",
   "metadata": {},
   "outputs": [],
   "source": []
  }
 ],
 "metadata": {
  "kernelspec": {
   "display_name": "Python 3 (ipykernel)",
   "language": "python",
   "name": "python3"
  },
  "language_info": {
   "codemirror_mode": {
    "name": "ipython",
    "version": 3
   },
   "file_extension": ".py",
   "mimetype": "text/x-python",
   "name": "python",
   "nbconvert_exporter": "python",
   "pygments_lexer": "ipython3",
   "version": "3.11.7"
  }
 },
 "nbformat": 4,
 "nbformat_minor": 5
}
