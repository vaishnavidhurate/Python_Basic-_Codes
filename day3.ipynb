{
 "cells": [
  {
   "cell_type": "code",
   "execution_count": 15,
   "id": "6880a745-a861-439f-9ab0-30ab4a2de70b",
   "metadata": {},
   "outputs": [
    {
     "data": {
      "text/plain": [
       "False"
      ]
     },
     "execution_count": 15,
     "metadata": {},
     "output_type": "execute_result"
    }
   ],
   "source": [
    "def isvalid(s):\n",
    "    stack=[]\n",
    "    for c in s:\n",
    "        if c in '({[':\n",
    "            stack.append(c)\n",
    "        else:\n",
    "            if not stack or( c==')' and stack[-1]!= '(' ) or( c=='}' and stack[-1]!= '{' ) or( c==']' and stack[-1]!= '[' ):\n",
    "                return False\n",
    "            stack.pop()\n",
    "    return not stack\n",
    "\n",
    "isvalid('[}')"
   ]
  },
  {
   "cell_type": "code",
   "execution_count": null,
   "id": "fc1fe383-e569-49a6-ac35-542b95ed12f1",
   "metadata": {},
   "outputs": [],
   "source": [
    "no_of_elements =int(input(\"Enter no of elements in list \"))\n",
    "LIST=[]\n",
    "for i in range(0,no_of_elements):\n",
    "  LIST.append(i)\n",
    "print(LIST)\n",
    "target=int(input(\"Enter any target \"))\n",
    "for i in LIST:\n",
    "    for j in LIST:\n",
    "        if i+j== target:\n",
    "            print(\"elements are\",i,j)\n",
    "            print(\"indexes are \", LIST.index(i), LIST.index(j))"
   ]
  },
  {
   "cell_type": "code",
   "execution_count": null,
   "id": "9144ce01-dbd3-4bc0-8c0e-762f78139808",
   "metadata": {},
   "outputs": [],
   "source": []
  }
 ],
 "metadata": {
  "kernelspec": {
   "display_name": "Python 3 (ipykernel)",
   "language": "python",
   "name": "python3"
  },
  "language_info": {
   "codemirror_mode": {
    "name": "ipython",
    "version": 3
   },
   "file_extension": ".py",
   "mimetype": "text/x-python",
   "name": "python",
   "nbconvert_exporter": "python",
   "pygments_lexer": "ipython3",
   "version": "3.11.7"
  }
 },
 "nbformat": 4,
 "nbformat_minor": 5
}
