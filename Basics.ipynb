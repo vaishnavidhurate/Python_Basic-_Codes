{
 "cells": [
  {
   "cell_type": "code",
   "execution_count": 1,
   "id": "a3a541e1-3d1f-459a-a7c2-99aa884f3d1b",
   "metadata": {},
   "outputs": [
    {
     "name": "stdin",
     "output_type": "stream",
     "text": [
      "Enter Your Name john\n"
     ]
    },
    {
     "name": "stdout",
     "output_type": "stream",
     "text": [
      "hello john\n"
     ]
    }
   ],
   "source": [
    "#1. Ask for the user’s first name and display the output message\n",
    "nm= str(input(\"Enter Your Name\"))\n",
    "print(\"hello\",nm)"
   ]
  },
  {
   "cell_type": "code",
   "execution_count": 3,
   "id": "7ef7ce54-22a3-4cd8-834d-645730eb125b",
   "metadata": {},
   "outputs": [
    {
     "name": "stdin",
     "output_type": "stream",
     "text": [
      "Enter your first name  Krishna\n",
      "Enter your last name  Vasudev\n"
     ]
    },
    {
     "name": "stdout",
     "output_type": "stream",
     "text": [
      "HELLO  Krishna Vasudev\n"
     ]
    }
   ],
   "source": [
    "#2. Ask for the user’s first name and then ask for their surname and display the output message\n",
    "name=str(input(\"Enter your first name \"))\n",
    "surname=str(input(\"Enter your last name \"))\n",
    "print(\"HELLO \", name, surname)"
   ]
  },
  {
   "cell_type": "code",
   "execution_count": 8,
   "id": "99e83e48-387e-4c34-bab5-95f7054126d9",
   "metadata": {},
   "outputs": [
    {
     "name": "stdout",
     "output_type": "stream",
     "text": [
      "What do you call a bear with no teeth?\n",
      "A gummy bear!\n"
     ]
    }
   ],
   "source": [
    "#3. Write code that will display the joke “What do you call a bear with no teeth?” and on the next line display the answer “A gummy bear!” Try to create it using only one line of code.\n",
    "print(\"What do you call a bear with no teeth?\\nA gummy bear!\")"
   ]
  },
  {
   "cell_type": "code",
   "execution_count": 10,
   "id": "657f33d1-bbb9-4259-abfb-d2c3137297c7",
   "metadata": {},
   "outputs": [
    {
     "name": "stdin",
     "output_type": "stream",
     "text": [
      "enter two numbers to be added 4-5\n"
     ]
    },
    {
     "name": "stdout",
     "output_type": "stream",
     "text": [
      "The Total is  9\n"
     ]
    }
   ],
   "source": [
    "#4. Ask the user to enter two numbers. Add them together and display the answer as The total is [answer].\n",
    "a,b=input(\"enter two numbers to be added\").split('-')\n",
    "print(\"The Total is \",int(a)+int(b))"
   ]
  },
  {
   "cell_type": "code",
   "execution_count": 11,
   "id": "38f7d5ff-9d5a-40f9-9945-2fabf2b62ae0",
   "metadata": {},
   "outputs": [
    {
     "name": "stdin",
     "output_type": "stream",
     "text": [
      "Enter 1st number 4\n",
      "Enter 2nd number 5\n",
      "Enter 3rd number 3\n"
     ]
    },
    {
     "name": "stdout",
     "output_type": "stream",
     "text": [
      "The answer is  27\n"
     ]
    }
   ],
   "source": [
    "#5. Ask the user to enter three numbers. Add together the first two numbers and then multiply this total by the third. Display the answer as The answer is [answer].\n",
    "a=int(input(\"Enter 1st number\"))\n",
    "b=int(input(\"Enter 2nd number\"))\n",
    "c=int(input(\"Enter 3rd number\"))\n",
    "r=(a+b)*c\n",
    "print(\"The answer is \" ,r)\n"
   ]
  },
  {
   "cell_type": "code",
   "execution_count": 13,
   "id": "b385860e-1684-4dc1-b35f-005b4f1f6f12",
   "metadata": {},
   "outputs": [
    {
     "name": "stdin",
     "output_type": "stream",
     "text": [
      "Enter the no of  pizza slices you started with  8\n",
      "Enter the no of  pizza slices you have eaten 4\n"
     ]
    },
    {
     "name": "stdout",
     "output_type": "stream",
     "text": [
      "You have 4 slices left!!\n"
     ]
    }
   ],
   "source": [
    "#6.Ask how many slices of pizza the user started with and ask how many slices they have eaten. Work out how many slices they have left and display the answer in a userfriendly format.\n",
    "t=int(input(\"Enter the no of  pizza slices you started with \"))\n",
    "e=int(input(\"Enter the no of  pizza slices you have eaten\"))\n",
    "print(\"You have\",t-e,\"slices left!!\")\n"
   ]
  },
  {
   "cell_type": "code",
   "execution_count": 4,
   "id": "d16dd515-d34e-4f03-8f10-aeb9a02472d0",
   "metadata": {},
   "outputs": [
    {
     "name": "stdin",
     "output_type": "stream",
     "text": [
      "Enter Your Name Raghav\n",
      "Enter Your Age 4\n"
     ]
    },
    {
     "name": "stdout",
     "output_type": "stream",
     "text": [
      "Raghav next birthday you will be 5 !!\n"
     ]
    }
   ],
   "source": [
    "#7.Ask the user for their name and their age. Add 1 to their age and display the output [Name] next birthday you will be [new age].\n",
    "n=str(input(\"Enter Your Name\"))\n",
    "a=int(input(\"Enter Your Age\"))\n",
    "print(n,\"next birthday you will be\",a+1,\"!!\")"
   ]
  },
  {
   "cell_type": "code",
   "execution_count": 5,
   "id": "709c4268-c6ce-4d95-bf39-27ed171f9fae",
   "metadata": {},
   "outputs": [
    {
     "name": "stdin",
     "output_type": "stream",
     "text": [
      "Enter total amount of bill  5000\n",
      "Enter no of diners - persons who had dinner 5\n"
     ]
    },
    {
     "name": "stdout",
     "output_type": "stream",
     "text": [
      "Each person have to pay  1000.0\n"
     ]
    }
   ],
   "source": [
    "#8.Ask for the total price of the bill, then ask how many diners there are. Divide the total bill by the number of diners and show how much each person must pay.\n",
    "total=int(input(\"Enter total amount of bill \"))\n",
    "diners=int(input(\"Enter no of diners - persons who had dinner\"))\n",
    "print(\"Each person have to pay \",total/diners)"
   ]
  },
  {
   "cell_type": "code",
   "execution_count": 10,
   "id": "af31b4be-dd5e-4a70-8d55-578cd430d8c4",
   "metadata": {},
   "outputs": [
    {
     "name": "stdin",
     "output_type": "stream",
     "text": [
      "Enter no of days 5\n"
     ]
    },
    {
     "name": "stdout",
     "output_type": "stream",
     "text": [
      "Hours are-120\n",
      "Minutes are-7200\n",
      "Seconds are-432000\n"
     ]
    }
   ],
   "source": [
    "#9.Write a program that will ask for a number of days and then will show how many hours, minutes and seconds are in that number of days.\n",
    "days=int(input(\"Enter no of days\"))\n",
    "print(\"Hours are\",days*24 ,sep='-')\n",
    "print(\"Minutes are\",days*24*60 ,sep='-')\n",
    "print(\"Seconds are\",days*24*60*60,sep='-' )\n",
    "         \n",
    "      "
   ]
  },
  {
   "cell_type": "code",
   "execution_count": 11,
   "id": "6504cc33-f042-4378-9969-8b712b2ce2e0",
   "metadata": {},
   "outputs": [
    {
     "name": "stdin",
     "output_type": "stream",
     "text": [
      "Enter weight in kilograms 5\n"
     ]
    },
    {
     "name": "stdout",
     "output_type": "stream",
     "text": [
      "Weight in pounds -  11020\n"
     ]
    }
   ],
   "source": [
    "#10.There are 2,204 pounds in a kilogram. Ask the user to enter a weight in kilograms and convert it to pounds.\n",
    "k=int(input(\"Enter weight in kilograms\"))\n",
    "print(\"Weight in pounds - \",2204*k)"
   ]
  },
  {
   "cell_type": "code",
   "execution_count": null,
   "id": "6a51de5e-3934-4826-b24c-9b91b00a29ec",
   "metadata": {},
   "outputs": [],
   "source": []
  }
 ],
 "metadata": {
  "kernelspec": {
   "display_name": "Python 3 (ipykernel)",
   "language": "python",
   "name": "python3"
  },
  "language_info": {
   "codemirror_mode": {
    "name": "ipython",
    "version": 3
   },
   "file_extension": ".py",
   "mimetype": "text/x-python",
   "name": "python",
   "nbconvert_exporter": "python",
   "pygments_lexer": "ipython3",
   "version": "3.11.7"
  }
 },
 "nbformat": 4,
 "nbformat_minor": 5
}
