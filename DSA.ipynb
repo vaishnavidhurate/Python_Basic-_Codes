{
 "cells": [
  {
   "cell_type": "code",
   "execution_count": null,
   "id": "c9f48e89-9c04-4368-9e81-7b0899281654",
   "metadata": {},
   "outputs": [],
   "source": [
    "a=int(input(\"Enter size of array\"))\n",
    "arr=[]\n",
    "\n",
    "for i in range (0,a):\n",
    "    e=int(input(\"Enter the elements of array \"))\n",
    "    arr.append(e)\n",
    "print(arr)\n",
    "print(max(arr))"
   ]
  },
  {
   "cell_type": "markdown",
   "id": "95304c96-8d35-42f1-bf4c-ead2c372baf1",
   "metadata": {},
   "source": [
    "# Sorting"
   ]
  },
  {
   "cell_type": "code",
   "execution_count": 12,
   "id": "8839465e-d62c-4714-bf78-73b5a530f0a2",
   "metadata": {},
   "outputs": [
    {
     "name": "stdout",
     "output_type": "stream",
     "text": [
      "[1, 2, 3, 4, 6, 8]\n"
     ]
    }
   ],
   "source": [
    "def bubblesort(arr):\n",
    "    n = len(arr)\n",
    "    for i in range(n):\n",
    "        for j in range(n - i - 1):\n",
    "            if arr[j] > arr[j + 1]:\n",
    "                arr[j], arr[j + 1] = arr[j + 1], arr[j]\n",
    "    print(arr)\n",
    "\n",
    "arr = [2, 8, 3, 4, 6, 1]\n",
    "bubblesort(arr)\n"
   ]
  },
  {
   "cell_type": "code",
   "execution_count": 13,
   "id": "e8b55ab8-edd4-44a3-bfac-1dc618505f3b",
   "metadata": {},
   "outputs": [
    {
     "name": "stdout",
     "output_type": "stream",
     "text": [
      "[1, 2, 4, 35, 61, 82]\n"
     ]
    }
   ],
   "source": [
    "def select_sort(arr):\n",
    "    n = len(arr)\n",
    "    for i in range(n):\n",
    "        min=i\n",
    "        for j in range(i+1,n):\n",
    "            if arr[j] < arr[min]:\n",
    "               min=j\n",
    "        arr[i],arr[min]=arr[min],arr[i]\n",
    "    print(arr)\n",
    "\n",
    "arr = [2, 82, 35, 4, 61, 1]\n",
    "select_sort(arr)"
   ]
  },
  {
   "cell_type": "code",
   "execution_count": null,
   "id": "90a2d4e5-5291-431b-91fa-8a3e130e156b",
   "metadata": {},
   "outputs": [],
   "source": []
  }
 ],
 "metadata": {
  "kernelspec": {
   "display_name": "Python 3 (ipykernel)",
   "language": "python",
   "name": "python3"
  },
  "language_info": {
   "codemirror_mode": {
    "name": "ipython",
    "version": 3
   },
   "file_extension": ".py",
   "mimetype": "text/x-python",
   "name": "python",
   "nbconvert_exporter": "python",
   "pygments_lexer": "ipython3",
   "version": "3.11.7"
  }
 },
 "nbformat": 4,
 "nbformat_minor": 5
}
