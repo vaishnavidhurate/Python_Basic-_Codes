{
 "cells": [
  {
   "cell_type": "code",
   "execution_count": 4,
   "id": "521d0e9d-2b4f-4736-93f8-05291f0a9c77",
   "metadata": {},
   "outputs": [
    {
     "name": "stdout",
     "output_type": "stream",
     "text": [
      "1234\n",
      "2478\n",
      "1023\n"
     ]
    }
   ],
   "source": [
    "def find_lowest_number(card_set):\n",
    "    cards = list(card_set)\n",
    "    cards.sort()\n",
    "     for i in range(1, len(cards)):\n",
    "            if cards[i] != '0':\n",
    "                cards[0], cards[i] = cards[i], cards[0]\n",
    "                break\n",
    "    \n",
    "    result = ''.join(cards)\n",
    "    print(result)\n",
    "\n",
    "find_lowest_number(\"3421\")  \n",
    "find_lowest_number(\"4278\")  \n",
    "find_lowest_number(\"1023\")  \n"
   ]
  },
  {
   "cell_type": "code",
   "execution_count": 11,
   "id": "ed3fb077-51dd-4ba8-9295-92049077f2a2",
   "metadata": {},
   "outputs": [
    {
     "name": "stdin",
     "output_type": "stream",
     "text": [
      "Enter the card set:  163908\n"
     ]
    },
    {
     "name": "stdout",
     "output_type": "stream",
     "text": [
      "Lowest number matching the set criteria: 013689\n"
     ]
    }
   ],
   "source": [
    "def find_lowest_number(card_set):\n",
    "    cards = list(card_set)\n",
    "    cards.sort()\n",
    "    if cards[0] == 0:\n",
    "        for i in range(1, len(cards)):\n",
    "            if cards[i] != 0:\n",
    "                cards[0], cards[i] = cards[i], cards[0]\n",
    "                break\n",
    "\n",
    "    result = ''.join(cards)\n",
    "    return result\n",
    "\n",
    "\n",
    "card_set = (input(\"Enter the card set: \"))\n",
    "lowest_number = find_lowest_number(card_set)\n",
    "print(\"Lowest number matching the set criteria:\", lowest_number)\n"
   ]
  },
  {
   "cell_type": "code",
   "execution_count": null,
   "id": "165d9172-520f-4c64-903e-48895418bb89",
   "metadata": {},
   "outputs": [],
   "source": []
  }
 ],
 "metadata": {
  "kernelspec": {
   "display_name": "Python 3 (ipykernel)",
   "language": "python",
   "name": "python3"
  },
  "language_info": {
   "codemirror_mode": {
    "name": "ipython",
    "version": 3
   },
   "file_extension": ".py",
   "mimetype": "text/x-python",
   "name": "python",
   "nbconvert_exporter": "python",
   "pygments_lexer": "ipython3",
   "version": "3.11.7"
  }
 },
 "nbformat": 4,
 "nbformat_minor": 5
}
