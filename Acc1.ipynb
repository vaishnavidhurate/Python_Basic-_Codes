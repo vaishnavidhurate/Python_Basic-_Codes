{
 "cells": [
  {
   "cell_type": "code",
   "execution_count": 10,
   "id": "04b5dc43-769a-4b2b-93e0-43c9a3b148f5",
   "metadata": {},
   "outputs": [
    {
     "name": "stdin",
     "output_type": "stream",
     "text": [
      "Enter the value upto which you want to print numbers 10\n"
     ]
    },
    {
     "name": "stdout",
     "output_type": "stream",
     "text": [
      "0 1 2 3 4 5 6 7 8 9 10 "
     ]
    }
   ],
   "source": [
    "n=int(input(\"Enter the value upto which you want to print numbers\"))\n",
    "for i in range(0,n+1):\n",
    "    print(i, sep=\"-\", end=\" \")"
   ]
  },
  {
   "cell_type": "code",
   "execution_count": 22,
   "id": "e7cdae43-8c80-45b7-b16a-1d0a36fe4af0",
   "metadata": {},
   "outputs": [
    {
     "name": "stdin",
     "output_type": "stream",
     "text": [
      "Enter number 5.65\n"
     ]
    },
    {
     "name": "stdout",
     "output_type": "stream",
     "text": [
      "Number is positive\n"
     ]
    }
   ],
   "source": [
    "n=float(input(\"Enter number\"))\n",
    "if n>0 :\n",
    "    print(\"Number is positive\")\n",
    "elif n<0:\n",
    "    print(\"Number is negative\")\n",
    "else:\n",
    "    print(\" Number is Zero\")"
   ]
  },
  {
   "cell_type": "code",
   "execution_count": 33,
   "id": "6bdb06de-16d8-4e2c-8c59-d09f124c1baa",
   "metadata": {},
   "outputs": [
    {
     "name": "stdin",
     "output_type": "stream",
     "text": [
      "enter number 8.4255\n"
     ]
    },
    {
     "name": "stdout",
     "output_type": "stream",
     "text": [
      "8\n"
     ]
    }
   ],
   "source": [
    "n=float(input(\"enter number\"))\n",
    "print(round(n))"
   ]
  },
  {
   "cell_type": "code",
   "execution_count": 5,
   "id": "f0ed9360-cbcd-413d-ae06-be5f0decf7e7",
   "metadata": {},
   "outputs": [
    {
     "name": "stdin",
     "output_type": "stream",
     "text": [
      "Enter 1 st number 9\n",
      "Enter 2nd number 3\n",
      "Enter the operation you want to perform :  * , / , +, -, % ,** **\n"
     ]
    },
    {
     "name": "stdout",
     "output_type": "stream",
     "text": [
      "Exponentiation is  729.0\n"
     ]
    }
   ],
   "source": [
    "#printing all operation\n",
    "a,b=float(input(\"Enter 1 st number\")),float(input(\"Enter 2nd number\"))\n",
    "s=input(\"Enter the operation you want to perform :  * , / , +, -, % ,**\")\n",
    "if s==\"*\":\n",
    "    print(\"Multiplication is \",a*b)\n",
    "elif s==\"/\":\n",
    "    print(\"dividation is \",a/b)\n",
    "elif s==\"+\":\n",
    "    print(\"Addition is \",a+b)\n",
    "elif s==\"-\":\n",
    "    print(\"Substraction is \",a-b)\n",
    "elif s==\"%\":\n",
    "    print(\"dividation is \",a%b)\n",
    "elif s==\"**\":\n",
    "    print(\"Exponentiation is \",a**b)\n",
    "else:\n",
    "    print(\"Enter valid operation\")"
   ]
  },
  {
   "cell_type": "code",
   "execution_count": 8,
   "id": "1996c38e-cbb3-4d6e-9693-4197440ae061",
   "metadata": {},
   "outputs": [
    {
     "name": "stdin",
     "output_type": "stream",
     "text": [
      "Enter a number 88\n"
     ]
    },
    {
     "name": "stdout",
     "output_type": "stream",
     "text": [
      "Even\n"
     ]
    }
   ],
   "source": [
    "n=int(input(\"Enter a number\"))\n",
    "if n%2==0:\n",
    "    print(\"Even\")\n",
    "else:\n",
    "    print(\"Odd\")\n",
    "    "
   ]
  },
  {
   "cell_type": "markdown",
   "id": "87b5d738-d4bf-4fa3-9b31-5a48f411216e",
   "metadata": {},
   "source": [
    "n=int(input(\"enter number\"))\n",
    "o=int(input(\"enter 2 for squareroot or 3 for cuberoot\"))\n",
    "if o==2:\n",
    "    print(\"Squareroot is \",n*n)\n",
    "else:\n",
    "    print(\"Cuberoot is \",n**3)"
   ]
  },
  {
   "cell_type": "code",
   "execution_count": 25,
   "id": "257cc2fd-7977-4420-b83a-83b85c396f51",
   "metadata": {},
   "outputs": [
    {
     "name": "stdin",
     "output_type": "stream",
     "text": [
      "enter the number of which you want table 11\n"
     ]
    },
    {
     "name": "stdout",
     "output_type": "stream",
     "text": [
      "11\n",
      "22\n",
      "33\n",
      "44\n",
      "55\n",
      "66\n",
      "77\n",
      "88\n",
      "99\n",
      "110\n"
     ]
    }
   ],
   "source": [
    "n=int(input(\"enter the number of which you want table\"))\n",
    "for i in range(n,n*11,n):\n",
    "        print(i )"
   ]
  },
  {
   "cell_type": "code",
   "execution_count": 27,
   "id": "6039c485-c377-4910-97a4-84ff2e41cad6",
   "metadata": {},
   "outputs": [
    {
     "name": "stdin",
     "output_type": "stream",
     "text": [
      "Enter 1 st number 5\n",
      "Enter 2nd number 888\n"
     ]
    },
    {
     "name": "stdout",
     "output_type": "stream",
     "text": [
      "888.0  is greater\n"
     ]
    }
   ],
   "source": [
    "a,b=float(input(\"Enter 1 st number\")),float(input(\"Enter 2nd number\"))\n",
    "if a>b:\n",
    "    print(a,\"is greater\")\n",
    "elif b>a:\n",
    "    print(b,\" is greater\")\n",
    "else:\n",
    "    print(a,\"&\",b, \"both are equal\")\n",
    "    "
   ]
  },
  {
   "cell_type": "code",
   "execution_count": 31,
   "id": "37176781-38ac-4faf-bc18-537ebe9e0664",
   "metadata": {},
   "outputs": [
    {
     "name": "stdin",
     "output_type": "stream",
     "text": [
      "Enter number 5\n",
      "Enter power 2\n"
     ]
    },
    {
     "name": "stdout",
     "output_type": "stream",
     "text": [
      "5 power 2 is 25\n"
     ]
    }
   ],
   "source": [
    "a,b=int(input(\"Enter number\")),int(input(\"Enter power\"))\n",
    "print(a,\"power\",b,\"is\",a**b)"
   ]
  }
 ],
 "metadata": {
  "kernelspec": {
   "display_name": "Python 3 (ipykernel)",
   "language": "python",
   "name": "python3"
  },
  "language_info": {
   "codemirror_mode": {
    "name": "ipython",
    "version": 3
   },
   "file_extension": ".py",
   "mimetype": "text/x-python",
   "name": "python",
   "nbconvert_exporter": "python",
   "pygments_lexer": "ipython3",
   "version": "3.11.7"
  }
 },
 "nbformat": 4,
 "nbformat_minor": 5
}
